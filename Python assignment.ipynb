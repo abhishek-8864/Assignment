{
 "cells": [
  {
   "cell_type": "code",
   "execution_count": 68,
   "id": "7f21bd41-a057-475f-993e-9a9a5105dfa4",
   "metadata": {},
   "outputs": [
    {
     "name": "stdout",
     "output_type": "stream",
     "text": [
      "The second largest number is: 34\n"
     ]
    }
   ],
   "source": [
    "#1.\tWrite a Python program to find the second largest number in a list without using the sort() method. \n",
    "def find_second_largest(numbers):\n",
    "    if len(numbers) < 2:\n",
    "        return None\n",
    "    largest = second_largest = float('-inf')\n",
    "    for num in numbers:\n",
    "        if num > largest:\n",
    "            second_largest = largest\n",
    "            largest = num\n",
    "        elif largest > num > second_largest:\n",
    "            second_largest = num\n",
    "    return second_largest if second_largest != float('-inf') else None\n",
    "my_list = [12, 45, 1, -10, 45, 34]\n",
    "result = find_second_largest(my_list)\n",
    "if result is not None:\n",
    "    print(\"The second largest number is:\", result)\n",
    "else:\n",
    "    print(\"The list does not have a second largest number.\")"
   ]
  },
  {
   "cell_type": "code",
   "execution_count": 69,
   "id": "71aa1d12-d4c1-4c7a-aa6b-d827e8a6ded0",
   "metadata": {},
   "outputs": [
    {
     "name": "stdout",
     "output_type": "stream",
     "text": [
      "List after removing duplicates and sorting: [1, 2, 4, 7, 9]\n"
     ]
    }
   ],
   "source": [
    "#2.\tRemove duplicates from a list without using set() and return it in sorted order. \n",
    "def remove_duplicates_and_sort(lst):\n",
    "    unique_list = []\n",
    "    for item in lst:\n",
    "        if item not in unique_list:\n",
    "            unique_list.append(item)\n",
    "    n = len(unique_list)\n",
    "    for i in range(n):\n",
    "        for j in range(0, n - i - 1):\n",
    "            if unique_list[j] > unique_list[j + 1]:\n",
    "                unique_list[j], unique_list[j + 1] = unique_list[j + 1], unique_list[j]\n",
    "    return unique_list\n",
    "my_list = [4, 2, 7, 4, 2, 9, 1]\n",
    "result = remove_duplicates_and_sort(my_list)\n",
    "print(\"List after removing duplicates and sorting:\", result)"
   ]
  },
  {
   "cell_type": "code",
   "execution_count": 70,
   "id": "983a14db-f640-4658-95f2-226fff144b32",
   "metadata": {},
   "outputs": [
    {
     "name": "stdout",
     "output_type": "stream",
     "text": [
      "Sum of the list: 150\n",
      "Average of the list: 30.0\n"
     ]
    }
   ],
   "source": [
    "#3.\tFind the sum and average of a list of numbers. \n",
    "def calculate_sum_and_average(n):\n",
    "    total = 0\n",
    "    count = len(n)\n",
    "    for num in n:\n",
    "        total += num\n",
    "    average = total / count if count != 0 else 0\n",
    "    return total, average\n",
    "my_list = [10, 20, 30, 40, 50]\n",
    "total, avg = calculate_sum_and_average(my_list)\n",
    "print(\"Sum of the list:\", total)\n",
    "print(\"Average of the list:\", avg)\n"
   ]
  },
  {
   "cell_type": "code",
   "execution_count": 71,
   "id": "c7998d0b-6054-442f-9943-9e72db45372a",
   "metadata": {},
   "outputs": [
    {
     "name": "stdin",
     "output_type": "stream",
     "text": [
      "Enter a number: 2\n"
     ]
    },
    {
     "name": "stdout",
     "output_type": "stream",
     "text": [
      "2 ,prime number.\n"
     ]
    }
   ],
   "source": [
    "#4.\tCreate a program to check if a number is prime. \n",
    "num = int(input(\"Enter a number:\"))\n",
    "def is_prime(n):\n",
    "    if n <= 1:\n",
    "        return False\n",
    "    if n == 2:\n",
    "        return True\n",
    "    if n % 2 == 0:\n",
    "        return False\n",
    "    for i in range(3, int(n**0.5) + 1, 2):\n",
    "        if n % i == 0:\n",
    "            return False\n",
    "    return True\n",
    "if is_prime(num):\n",
    "    print(num,\",prime number.\")\n",
    "else:\n",
    "    print(num,\",not prime number.\")\n"
   ]
  },
  {
   "cell_type": "code",
   "execution_count": 72,
   "id": "b4540191-774c-40fb-8436-a29f8bae378a",
   "metadata": {},
   "outputs": [
    {
     "name": "stdin",
     "output_type": "stream",
     "text": [
      "Enter a string:  Abhishek\n"
     ]
    },
    {
     "name": "stdout",
     "output_type": "stream",
     "text": [
      "Vowels: 3\n",
      "Consonants: 5\n",
      "Digits: 0\n",
      "Special characters: 0\n"
     ]
    }
   ],
   "source": [
    "#5.\tCount the number of vowels, consonants, digits, and special characters in a given string. \n",
    "strr = input(\"Enter a string: \")\n",
    "def count_characters(s):\n",
    "    vowels = 'aeiouAEIOU'\n",
    "    vowel_count = consonant_count = digit_count = special_count = 0\n",
    "    for char in s:\n",
    "        if char.isalpha():\n",
    "            if char in vowels:\n",
    "                vowel_count += 1\n",
    "            else:\n",
    "                consonant_count += 1\n",
    "        elif char.isdigit():\n",
    "            digit_count += 1\n",
    "        else:\n",
    "            special_count += 1\n",
    "    return vowel_count, consonant_count, digit_count, special_count\n",
    "vowels, consonants, digits, specials = count_characters(strr)\n",
    "print(\"Vowels:\", vowels)\n",
    "print(\"Consonants:\", consonants)\n",
    "print(\"Digits:\", digits)\n",
    "print(\"Special characters:\", specials)\n"
   ]
  },
  {
   "cell_type": "code",
   "execution_count": 74,
   "id": "ce0f2ce9-0e59-441b-b6a3-2f9ee5e95a8e",
   "metadata": {},
   "outputs": [
    {
     "name": "stdout",
     "output_type": "stream",
     "text": [
      "2 4 6 8 10 12 14 16 18 20 22 24 26 28 30 32 34 36 38 40 42 44 46 48 50 52 54 56 58 60 62 64 66 68 70 72 74 76 78 80 82 84 86 88 90 92 94 96 98 100 "
     ]
    }
   ],
   "source": [
    "#6.Print even numbers from 1 to 100\n",
    "for num in range(2, 101, 2):\n",
    "    print(num, end=' ')"
   ]
  },
  {
   "cell_type": "code",
   "execution_count": 10,
   "id": "15dfdf01-b3aa-4204-bb45-23a1a1fde931",
   "metadata": {},
   "outputs": [
    {
     "name": "stdin",
     "output_type": "stream",
     "text": [
      "Enter a number:  2\n"
     ]
    },
    {
     "name": "stdout",
     "output_type": "stream",
     "text": [
      "Multiplication Table for 2:\n",
      "\n",
      "2 x 1 = 2\n",
      "2 x 2 = 4\n",
      "2 x 3 = 6\n",
      "2 x 4 = 8\n",
      "2 x 5 = 10\n",
      "2 x 6 = 12\n",
      "2 x 7 = 14\n",
      "2 x 8 = 16\n",
      "2 x 9 = 18\n",
      "2 x 10 = 20\n"
     ]
    }
   ],
   "source": [
    "#7.Write a program to print the multiplication table of a number entered by the user. \n",
    "num = int(input(\"Enter a number: \"))\n",
    "print(f\"Multiplication Table for {num}:\\n\")\n",
    "for i in range(1, 11):\n",
    "    result = num * i\n",
    "    print(f\"{num} x {i} = {result}\")\n"
   ]
  },
  {
   "cell_type": "code",
   "execution_count": 12,
   "id": "345996b8-d8bd-482b-9983-02dcafcbeca3",
   "metadata": {},
   "outputs": [
    {
     "name": "stdout",
     "output_type": "stream",
     "text": [
      "[15, 30, 45, 60, 75, 90]\n"
     ]
    }
   ],
   "source": [
    "#8.\tCreate a list of numbers from 1 to 100 that are divisible by both 3 and 5. \n",
    "n = []\n",
    "for num in range(1, 101):\n",
    "    if num % 3 == 0 and num % 5 == 0:\n",
    "        n.append(num)\n",
    "print(n)\n"
   ]
  },
  {
   "cell_type": "code",
   "execution_count": 13,
   "id": "533e368a-7f48-49a0-b0bd-0d7b9d9d8c65",
   "metadata": {},
   "outputs": [
    {
     "name": "stdin",
     "output_type": "stream",
     "text": [
      "Enter a number:  2345\n"
     ]
    },
    {
     "name": "stdout",
     "output_type": "stream",
     "text": [
      "5432\n"
     ]
    }
   ],
   "source": [
    "#9.Take a number input and print its reverse.\n",
    "num = input(\"Enter a number: \")\n",
    "rev_num = num[::-1]\n",
    "print(rev_num)"
   ]
  },
  {
   "cell_type": "code",
   "execution_count": 14,
   "id": "9febe606-f8c1-488c-bb99-d020666c3e94",
   "metadata": {},
   "outputs": [
    {
     "name": "stdin",
     "output_type": "stream",
     "text": [
      "Enter a string:  Abhishek\n"
     ]
    },
    {
     "name": "stdout",
     "output_type": "stream",
     "text": [
      "Character frequency:\n",
      "'A': 1\n",
      "'b': 1\n",
      "'h': 2\n",
      "'i': 1\n",
      "'s': 1\n",
      "'e': 1\n",
      "'k': 1\n"
     ]
    }
   ],
   "source": [
    "#10.Count the frequency of each character in a string and store it in a dictionary.\n",
    "def count_char_frequency(s):\n",
    "    freq_dict = {}\n",
    "    for char in s:\n",
    "        if char in freq_dict:\n",
    "            freq_dict[char] += 1\n",
    "        else:\n",
    "            freq_dict[char] = 1\n",
    "    return freq_dict\n",
    "input_str = input(\"Enter a string: \")\n",
    "frequency = count_char_frequency(input_str)\n",
    "print(\"Character frequency:\")\n",
    "for char, count in frequency.items():\n",
    "    print(f\"'{char}': {count}\")"
   ]
  },
  {
   "cell_type": "code",
   "execution_count": 16,
   "id": "abb71122-17b0-4295-b990-94ab5ef26e48",
   "metadata": {},
   "outputs": [
    {
     "name": "stdin",
     "output_type": "stream",
     "text": [
      "Enter the number of prime numbers to generate:  25\n"
     ]
    },
    {
     "name": "stdout",
     "output_type": "stream",
     "text": [
      "The first 25 prime numbers are:\n",
      "[2, 3, 5, 7, 11, 13, 17, 19, 23, 29, 31, 37, 41, 43, 47, 53, 59, 61, 67, 71, 73, 79, 83, 89, 97]\n"
     ]
    }
   ],
   "source": [
    "#11.Write a Python program to generate the first n prime numbers.\n",
    "def is_prime(num):\n",
    "    if num <= 1:\n",
    "        return False\n",
    "    if num == 2:\n",
    "        return True\n",
    "    if num % 2 == 0:\n",
    "        return False\n",
    "    for i in range(3, int(num**0.5) + 1, 2):\n",
    "        if num % i == 0:\n",
    "            return False\n",
    "    return True\n",
    "def generate_n_primes(n):\n",
    "    primes = []\n",
    "    num = 2\n",
    "    while len(primes) < n:\n",
    "        if is_prime(num):\n",
    "            primes.append(num)\n",
    "        num += 1\n",
    "    return primes\n",
    "n = int(input(\"Enter the number of prime numbers to generate: \"))\n",
    "prime_list = generate_n_primes(n)\n",
    "print(f\"The first {n} prime numbers are:\")\n",
    "print(prime_list)"
   ]
  },
  {
   "cell_type": "code",
   "execution_count": 18,
   "id": "49183911-a9f5-4af7-a2eb-a8f39387e8b7",
   "metadata": {},
   "outputs": [
    {
     "name": "stdin",
     "output_type": "stream",
     "text": [
      "Enter a number:  121\n"
     ]
    },
    {
     "name": "stdout",
     "output_type": "stream",
     "text": [
      "121 is a palindrome.\n"
     ]
    }
   ],
   "source": [
    "#12.Check whether a number is a palindrome or not.\n",
    "num = input(\"Enter a number: \")\n",
    "if num == num[::-1]:\n",
    "    print(f\"{num} is a palindrome.\")\n",
    "else:\n",
    "    print(f\"{num} is not a palindrome.\")"
   ]
  },
  {
   "cell_type": "code",
   "execution_count": 19,
   "id": "1dbb8f03-593b-4cf6-aed6-d730ccab0769",
   "metadata": {},
   "outputs": [
    {
     "name": "stdin",
     "output_type": "stream",
     "text": [
      "Enter the element to count:  5\n"
     ]
    },
    {
     "name": "stdout",
     "output_type": "stream",
     "text": [
      "The element 5 appears 1 times in the list.\n"
     ]
    }
   ],
   "source": [
    "#13.Count how many times a specific element appears in a list. \n",
    "my_list = [1, 3, 7, 8, 7, 5, 6, 7, 2]\n",
    "def count_occurrences(lst, element):\n",
    "    count = 0\n",
    "    for item in lst:\n",
    "        if item == element:\n",
    "            count += 1\n",
    "    return count\n",
    "target = int(input(\"Enter the element to count: \"))\n",
    "occurrences = count_occurrences(my_list, target)\n",
    "print(f\"The element {target} appears {occurrences} times in the list.\")"
   ]
  },
  {
   "cell_type": "code",
   "execution_count": 22,
   "id": "62df580a-ec5f-497d-bdb6-430608ffa0cf",
   "metadata": {},
   "outputs": [
    {
     "name": "stdout",
     "output_type": "stream",
     "text": [
      "Squares of even numbers between 1 and 50:\n",
      "[4, 16, 36, 64, 100, 144, 196, 256, 324, 400, 484, 576, 676, 784, 900, 1024, 1156, 1296, 1444, 1600, 1764, 1936, 2116, 2304, 2500]\n"
     ]
    }
   ],
   "source": [
    "#14.Create a list of squares of even numbers between 1 and 50.\n",
    "\n",
    "squares_of_even = []\n",
    "for num in range(1, 51):\n",
    "    if num % 2 == 0:\n",
    "        squares_of_even.append(num ** 2)\n",
    "print(\"Squares of even numbers between 1 and 50:\")\n",
    "print(squares_of_even)"
   ]
  },
  {
   "cell_type": "code",
   "execution_count": 23,
   "id": "e9e481a6-5c9f-4f48-9ab6-fd6196bd8f8c",
   "metadata": {},
   "outputs": [
    {
     "name": "stdout",
     "output_type": "stream",
     "text": [
      "List with unique elements (order preserved): [1, 3, 2, 4, 5]\n"
     ]
    }
   ],
   "source": [
    "#15.Accept a list and return a new list with only unique elements (preserve order). \n",
    "listt = [1, 3, 2, 3, 4, 1, 5, 2]\n",
    "def unique_elements(lst):\n",
    "    seen = []\n",
    "    for item in lst:\n",
    "        if item not in seen:\n",
    "            seen.append(item)\n",
    "    return seen\n",
    "result = unique_elements(listt)\n",
    "print(\"List with unique elements (order preserved):\", result)"
   ]
  },
  {
   "cell_type": "code",
   "execution_count": 24,
   "id": "065a6d93-c94e-4739-8c7c-1d715f48dacb",
   "metadata": {},
   "outputs": [
    {
     "name": "stdin",
     "output_type": "stream",
     "text": [
      "Enter a number:  25\n"
     ]
    },
    {
     "name": "stdout",
     "output_type": "stream",
     "text": [
      "25 is Odd.\n"
     ]
    }
   ],
   "source": [
    "#16.a function to check if a number is even or odd\n",
    "def check_even_odd(num):\n",
    "    if num % 2 == 0:\n",
    "        return \"Even\"\n",
    "    else:\n",
    "        return \"Odd\"\n",
    "n = int(input(\"Enter a number: \"))\n",
    "result = check_even_odd(n)\n",
    "print(f\"{n} is {result}.\")"
   ]
  },
  {
   "cell_type": "code",
   "execution_count": 25,
   "id": "9f782ab7-dedb-437f-a1ea-4402cbea8346",
   "metadata": {},
   "outputs": [
    {
     "name": "stdout",
     "output_type": "stream",
     "text": [
      "Cumulative sum: [1, 3, 6, 10, 15]\n"
     ]
    }
   ],
   "source": [
    "#17.Create a function that takes a list of numbers and returns their cumulative sum. \n",
    "nums = [1, 2, 3, 4, 5]\n",
    "def cumulative_sum(n):\n",
    "    result = []\n",
    "    total = 0\n",
    "    for num in n:\n",
    "        total += num\n",
    "        result.append(total)\n",
    "    return result\n",
    "cumulative = cumulative_sum(nums)\n",
    "print(\"Cumulative sum:\", cumulative)\n"
   ]
  },
  {
   "cell_type": "code",
   "execution_count": 27,
   "id": "13f0ac46-8acb-4f5e-89f9-93ec15501e72",
   "metadata": {},
   "outputs": [
    {
     "name": "stdin",
     "output_type": "stream",
     "text": [
      "Enter a number: 5\n"
     ]
    },
    {
     "name": "stdout",
     "output_type": "stream",
     "text": [
      "Factorial of 5 is: 120\n"
     ]
    }
   ],
   "source": [
    "#18.Write a recursive function to find the factorial of a number. \n",
    "num = int(input(\"Enter a number:\"))\n",
    "def factorial(n):\n",
    "    if n < 0:\n",
    "        return \"Factorial not defined for negative numbers\"\n",
    "    if n == 0 or n == 1:\n",
    "        return 1\n",
    "    return n * factorial(n - 1)\n",
    "result = factorial(num)\n",
    "print(f\"Factorial of {num} is: {result}\")\n"
   ]
  },
  {
   "cell_type": "code",
   "execution_count": 28,
   "id": "a4aa8ef4-abaf-44e3-bc87-bf007b950153",
   "metadata": {},
   "outputs": [
    {
     "name": "stdin",
     "output_type": "stream",
     "text": [
      "Enter the number of terms:  5\n"
     ]
    },
    {
     "name": "stdout",
     "output_type": "stream",
     "text": [
      "Fibonacci series up to 5 terms:\n",
      "0 1 1 2 3 \n"
     ]
    }
   ],
   "source": [
    "#19.Write a function to print the Fibonacci series up to n terms. \n",
    "def fibonacci_series(n):\n",
    "    if n <= 0:\n",
    "        print(\"Please enter a positive integer.\")\n",
    "    elif n == 1:\n",
    "        print(\"Fibonacci series up to 1 term:\")\n",
    "        print(0)\n",
    "    else:\n",
    "        print(f\"Fibonacci series up to {n} terms:\")\n",
    "        a, b = 0, 1\n",
    "        print(a, b, end=' ')\n",
    "        for _ in range(2, n):\n",
    "            a, b = b, a + b\n",
    "            print(b, end=' ')\n",
    "        print()\n",
    "terms = int(input(\"Enter the number of terms: \"))\n",
    "fibonacci_series(terms)\n"
   ]
  },
  {
   "cell_type": "code",
   "execution_count": 30,
   "id": "78c25bd5-996c-4c2d-8c52-6589e7e5ef93",
   "metadata": {},
   "outputs": [
    {
     "name": "stdin",
     "output_type": "stream",
     "text": [
      "Enter a string:  naman\n"
     ]
    },
    {
     "name": "stdout",
     "output_type": "stream",
     "text": [
      "\"naman\" is a palindrome.\n"
     ]
    }
   ],
   "source": [
    "#20.Define a function that checks if a given string is a palindrome.\n",
    "def is_palindrome(s):\n",
    "    s = s.replace(\" \", \"\").lower()\n",
    "    return s == s[::-1]\n",
    "text = input(\"Enter a string: \")\n",
    "if is_palindrome(text):\n",
    "    print(f'\"{text}\" is a palindrome.')\n",
    "else:\n",
    "    print(f'\"{text}\" is not a palindrome.')"
   ]
  },
  {
   "cell_type": "code",
   "execution_count": 32,
   "id": "b2256a7e-c12f-42c6-ab26-49bfa3000a65",
   "metadata": {},
   "outputs": [
    {
     "name": "stdout",
     "output_type": "stream",
     "text": [
      "Maximum: 9\n",
      "Minimum: -3\n"
     ]
    }
   ],
   "source": [
    "#21.Create a function that returns the maximum and minimum elements from a list. \n",
    "numbers = [5, 2, 9, 1, 7, -3, 8]\n",
    "def find_max_min(lst):\n",
    "    if not lst:\n",
    "        return None, None  # Handle empty list\n",
    "    max_val = min_val = lst[0]\n",
    "    for num in lst[1:]:\n",
    "        if num > max_val:\n",
    "            max_val = num\n",
    "        elif num < min_val:\n",
    "            min_val = num\n",
    "    return max_val, min_val\n",
    "maximum, minimum = find_max_min(numbers)\n",
    "print(\"Maximum:\", maximum)\n",
    "print(\"Minimum:\", minimum)"
   ]
  },
  {
   "cell_type": "code",
   "execution_count": 34,
   "id": "669db05e-d7e6-4f39-aed4-0a1055e7a01c",
   "metadata": {},
   "outputs": [
    {
     "name": "stdin",
     "output_type": "stream",
     "text": [
      "Enter a sentence:  i am a good boy.\n"
     ]
    },
    {
     "name": "stdout",
     "output_type": "stream",
     "text": [
      "The string is not a pangram.\n"
     ]
    }
   ],
   "source": [
    "#22.Write a function to check whether a string is a pangram.\n",
    "import string\n",
    "def is_pangram(s):\n",
    "    alphabet = set(string.ascii_lowercase)\n",
    "    return alphabet.issubset(set(s.lower()))\n",
    "text = input(\"Enter a sentence: \")\n",
    "if is_pangram(text):\n",
    "    print(\"The string is a pangram.\")\n",
    "else:\n",
    "    print(\"The string is not a pangram.\")"
   ]
  },
  {
   "cell_type": "code",
   "execution_count": 35,
   "id": "32c3f222-33a9-466f-b04a-0c0e3f0f87e2",
   "metadata": {},
   "outputs": [
    {
     "name": "stdin",
     "output_type": "stream",
     "text": [
      "Enter start of range:  2\n",
      "Enter end of range:  100\n"
     ]
    },
    {
     "name": "stdout",
     "output_type": "stream",
     "text": [
      "Prime numbers between 2 and 100:\n",
      "[2, 3, 5, 7, 11, 13, 17, 19, 23, 29, 31, 37, 41, 43, 47, 53, 59, 61, 67, 71, 73, 79, 83, 89, 97]\n"
     ]
    }
   ],
   "source": [
    "#23.Create a function that finds and returns all prime numbers in a given range. \n",
    "def find_primes_in_range(start, end):\n",
    "    def is_prime(n):\n",
    "        if n < 2:\n",
    "            return False\n",
    "        if n == 2:\n",
    "            return True\n",
    "        if n % 2 == 0:\n",
    "            return False\n",
    "        for i in range(3, int(n**0.5) + 1, 2):\n",
    "            if n % i == 0:\n",
    "                return False\n",
    "        return True\n",
    "    primes = []\n",
    "    for num in range(start, end + 1):\n",
    "        if is_prime(num):\n",
    "            primes.append(num)\n",
    "    return primes\n",
    "start = int(input(\"Enter start of range: \"))\n",
    "end = int(input(\"Enter end of range: \"))\n",
    "prime_list = find_primes_in_range(start, end)\n",
    "print(f\"Prime numbers between {start} and {end}:\")\n",
    "print(prime_list)"
   ]
  },
  {
   "cell_type": "code",
   "execution_count": 36,
   "id": "5f1a223e-ebea-4726-af71-d28a6c76de23",
   "metadata": {},
   "outputs": [
    {
     "name": "stdin",
     "output_type": "stream",
     "text": [
      "Enter a string:  Abhishek\n"
     ]
    },
    {
     "name": "stdout",
     "output_type": "stream",
     "text": [
      "Uppercase letters: 1\n",
      "Lowercase letters: 7\n"
     ]
    }
   ],
   "source": [
    "#24.Write a function to return the number of uppercase and lowercase letters in a string.\n",
    "def count_case_letters(s):\n",
    "    uppercase_count = 0\n",
    "    lowercase_count = 0\n",
    "    for char in s:\n",
    "        if char.isupper():\n",
    "            uppercase_count += 1\n",
    "        elif char.islower():\n",
    "            lowercase_count += 1\n",
    "    return uppercase_count, lowercase_count\n",
    "text = input(\"Enter a string: \")\n",
    "upper, lower = count_case_letters(text)\n",
    "print(f\"Uppercase letters: {upper}\")\n",
    "print(f\"Lowercase letters: {lower}\")"
   ]
  },
  {
   "cell_type": "code",
   "execution_count": 37,
   "id": "459519ff-0790-4e82-8999-c223abae0d32",
   "metadata": {},
   "outputs": [
    {
     "name": "stdin",
     "output_type": "stream",
     "text": [
      "Enter a number:  123\n"
     ]
    },
    {
     "name": "stdout",
     "output_type": "stream",
     "text": [
      "Sum of digits of 123 is: 6\n"
     ]
    }
   ],
   "source": [
    "#25.Write a function to compute the sum of digits of a number.\n",
    "def sum_of_digits(n):\n",
    "    n = abs(n)\n",
    "    total = 0\n",
    "    while n > 0:\n",
    "        total += n % 10\n",
    "        n //= 10\n",
    "    return total\n",
    "number = int(input(\"Enter a number: \"))\n",
    "result = sum_of_digits(number)\n",
    "print(f\"Sum of digits of {number} is: {result}\")\n"
   ]
  },
  {
   "cell_type": "code",
   "execution_count": 38,
   "id": "9283c80a-2308-4aca-9ad2-497065911e8f",
   "metadata": {},
   "outputs": [
    {
     "name": "stdin",
     "output_type": "stream",
     "text": [
      "Enter a sentence:  Abhishek is a good boy.\n"
     ]
    },
    {
     "name": "stdout",
     "output_type": "stream",
     "text": [
      "Number of words: 5\n"
     ]
    }
   ],
   "source": [
    "#26.Write a function to count words in a sentence. \n",
    "def count_words(sentence):\n",
    "    words = sentence.strip().split()\n",
    "    return len(words)\n",
    "\n",
    "# Example usage:\n",
    "text = input(\"Enter a sentence: \")\n",
    "print(\"Number of words:\", count_words(text))\n"
   ]
  },
  {
   "cell_type": "code",
   "execution_count": 39,
   "id": "7e8e4f6b-1b97-471f-8e46-289e417f3233",
   "metadata": {},
   "outputs": [
    {
     "name": "stdin",
     "output_type": "stream",
     "text": [
      "Enter a string:  Abhishek\n"
     ]
    },
    {
     "name": "stdout",
     "output_type": "stream",
     "text": [
      "String without punctuation: Abhishek\n"
     ]
    }
   ],
   "source": [
    "#27.Create a function to remove all punctuation from a string. \n",
    "import string\n",
    "def remove_punctuation(s):\n",
    "    return ''.join(char for char in s if char not in string.punctuation)\n",
    "text = input(\"Enter a string: \")\n",
    "cleaned = remove_punctuation(text)\n",
    "print(\"String without punctuation:\", cleaned)\n"
   ]
  },
  {
   "cell_type": "code",
   "execution_count": 40,
   "id": "1edbd790-74f3-4fb8-adda-0aab734a950f",
   "metadata": {},
   "outputs": [
    {
     "name": "stdin",
     "output_type": "stream",
     "text": [
      "Enter first number:  25\n",
      "Enter second number:  35\n"
     ]
    },
    {
     "name": "stdout",
     "output_type": "stream",
     "text": [
      "GCD is: 5\n"
     ]
    }
   ],
   "source": [
    "#28.Create a function that finds the GCD (greatest common divisor) of two numbers. \n",
    "def gcd(a, b):\n",
    "    while b:\n",
    "        a, b = b, a % b\n",
    "    return a\n",
    "num1 = int(input(\"Enter first number: \"))\n",
    "num2 = int(input(\"Enter second number: \"))\n",
    "print(\"GCD is:\", gcd(num1, num2))\n"
   ]
  },
  {
   "cell_type": "code",
   "execution_count": 41,
   "id": "4e96dacb-d942-463e-beb5-f202ffb925d8",
   "metadata": {},
   "outputs": [
    {
     "name": "stdout",
     "output_type": "stream",
     "text": [
      "Duplicates: [1, 2]\n"
     ]
    }
   ],
   "source": [
    "#29.Write a function that takes a list and returns only those elements that appear more than once\n",
    "def find_duplicates(lst):\n",
    "    seen = set()\n",
    "    duplicates = set()\n",
    "    for item in lst:\n",
    "        if item in seen:\n",
    "            duplicates.add(item)\n",
    "        else:\n",
    "            seen.add(item)\n",
    "    return list(duplicates)\n",
    "my_list = [1, 2, 3, 2, 4, 5, 1, 6]\n",
    "print(\"Duplicates:\", find_duplicates(my_list))\n"
   ]
  },
  {
   "cell_type": "code",
   "execution_count": 42,
   "id": "1fd24c11-7dbd-4ea2-8f76-9a80f0322b46",
   "metadata": {},
   "outputs": [
    {
     "name": "stdin",
     "output_type": "stream",
     "text": [
      "Enter first number:  12\n",
      "Enter second number:  15\n",
      "Enter third number:  11\n"
     ]
    },
    {
     "name": "stdout",
     "output_type": "stream",
     "text": [
      "Largest number is: 15\n"
     ]
    }
   ],
   "source": [
    "#30.Create a function to return the largest of three numbers. \n",
    "x = int(input(\"Enter first number: \"))\n",
    "y = int(input(\"Enter second number: \"))\n",
    "z = int(input(\"Enter third number: \"))\n",
    "def largest_of_three(a, b, c):\n",
    "    return max(a, b, c)\n",
    "print(\"Largest number is:\", largest_of_three(x, y, z))\n"
   ]
  },
  {
   "cell_type": "code",
   "execution_count": 44,
   "id": "cf4e42f5-4f34-41ce-bf7c-24b894afa964",
   "metadata": {},
   "outputs": [
    {
     "name": "stdin",
     "output_type": "stream",
     "text": [
      "Enter a sentence:  This is a cow.\n"
     ]
    },
    {
     "name": "stdout",
     "output_type": "stream",
     "text": [
      "Sorted words: ['This', 'a', 'cow.', 'is']\n"
     ]
    }
   ],
   "source": [
    "#31.A program to sort words in a sentence alphabetically\n",
    "def sort_words(sentence):\n",
    "    words = sentence.split()\n",
    "    return sorted(words)\n",
    "text = input(\"Enter a sentence: \")\n",
    "print(\"Sorted words:\", sort_words(text))\n"
   ]
  },
  {
   "cell_type": "code",
   "execution_count": 45,
   "id": "183d7e3e-7726-4840-b41b-e54657a1cc27",
   "metadata": {},
   "outputs": [
    {
     "name": "stdout",
     "output_type": "stream",
     "text": [
      "Merged dictionary: {'a': 1, 'b': 2, 'c': 3, 'd': 4}\n"
     ]
    }
   ],
   "source": [
    "#32.Concatenate two dictionaries and print the result. \n",
    "def merge_dicts(dict1, dict2):\n",
    "    return {**dict1, **dict2}\n",
    "d1 = {'a': 1, 'b': 2}\n",
    "d2 = {'c': 3, 'd': 4}\n",
    "print(\"Merged dictionary:\", merge_dicts(d1, d2))\n"
   ]
  },
  {
   "cell_type": "code",
   "execution_count": 46,
   "id": "55360d42-d5e6-4593-9571-6d0ac4456a97",
   "metadata": {},
   "outputs": [
    {
     "name": "stdin",
     "output_type": "stream",
     "text": [
      "Enter a sentence:  Abhishek\n"
     ]
    },
    {
     "name": "stdout",
     "output_type": "stream",
     "text": [
      "{'Abhishek': 3}\n"
     ]
    }
   ],
   "source": [
    "#33.Count how many vowels are present in each word of a sentence. \n",
    "def count_vowels_per_word(sentence):\n",
    "    vowels = 'aeiouAEIOU'\n",
    "    result = {}\n",
    "    for word in sentence.split():\n",
    "        result[word] = sum(1 for ch in word if ch in vowels)\n",
    "    return result\n",
    "s = input(\"Enter a sentence: \")\n",
    "print(count_vowels_per_word(s))\n"
   ]
  },
  {
   "cell_type": "code",
   "execution_count": 47,
   "id": "e044e750-16cc-4728-86dd-0382a7b0f90e",
   "metadata": {},
   "outputs": [
    {
     "name": "stdout",
     "output_type": "stream",
     "text": [
      "Converted list: [1, 2, 3, 4]\n"
     ]
    }
   ],
   "source": [
    "#34.Accept a tuple and convert it into a list. \n",
    "t = (1, 2, 3, 4)\n",
    "converted = list(t)\n",
    "print(\"Converted list:\", converted)\n"
   ]
  },
  {
   "cell_type": "code",
   "execution_count": 48,
   "id": "7c1e45bc-c1b7-4820-9895-72f30f458923",
   "metadata": {},
   "outputs": [
    {
     "name": "stdin",
     "output_type": "stream",
     "text": [
      "Enter a string:  Abhishek is a good boy.\n"
     ]
    },
    {
     "name": "stdout",
     "output_type": "stream",
     "text": [
      "Without whitespace: Abhishekisagoodboy.\n"
     ]
    }
   ],
   "source": [
    "#35.Remove all whitespace from a given string using a function. \n",
    "def remove_whitespace(s):\n",
    "    return ''.join(s.split())\n",
    "text = input(\"Enter a string: \")\n",
    "print(\"Without whitespace:\", remove_whitespace(text))\n"
   ]
  },
  {
   "cell_type": "code",
   "execution_count": 49,
   "id": "15ecb82c-0d72-4903-aa88-e1f84c71cb68",
   "metadata": {},
   "outputs": [
    {
     "name": "stdout",
     "output_type": "stream",
     "text": [
      "{'name': 'Alice', 'age': 25}\n"
     ]
    }
   ],
   "source": [
    "#36.Merge two lists into a dictionary using one as keys and the other as values. \n",
    "def lists_to_dict(keys, values):\n",
    "    return dict(zip(keys, values))\n",
    "k = ['name', 'age']\n",
    "v = ['Alice', 25]\n",
    "print(lists_to_dict(k, v))\n"
   ]
  },
  {
   "cell_type": "code",
   "execution_count": 50,
   "id": "4258d9e9-93ca-4c01-b13b-42a3da0865d4",
   "metadata": {},
   "outputs": [
    {
     "name": "stdout",
     "output_type": "stream",
     "text": [
      "Key with max value: b\n"
     ]
    }
   ],
   "source": [
    "#37.Write a program to get the key with the maximum value in a dictionary. \n",
    "d = {'a': 10, 'b': 25, 'c': 18}\n",
    "max_key = max(d, key=d.get)\n",
    "print(\"Key with max value:\", max_key)\n"
   ]
  },
  {
   "cell_type": "code",
   "execution_count": 52,
   "id": "1d3fe780-39f1-492c-a5ba-fd0ec36b1de5",
   "metadata": {},
   "outputs": [
    {
     "name": "stdin",
     "output_type": "stream",
     "text": [
      "Enter a string:  Abhishek\n"
     ]
    },
    {
     "name": "stdout",
     "output_type": "stream",
     "text": [
      "{'abhishek': 1}\n"
     ]
    }
   ],
   "source": [
    "#38.\tAccept a string and print a dictionary with word frequencies. \n",
    "def word_frequency(s):\n",
    "    words = s.lower().split()\n",
    "    freq = {}\n",
    "    for word in words:\n",
    "        freq[word] = freq.get(word, 0) + 1\n",
    "    return freq\n",
    "text = input(\"Enter a string: \")\n",
    "print(word_frequency(text))\n"
   ]
  },
  {
   "cell_type": "code",
   "execution_count": 53,
   "id": "5e0df5d0-29a6-43f6-94d0-0bb794cfa47c",
   "metadata": {},
   "outputs": [
    {
     "name": "stdin",
     "output_type": "stream",
     "text": [
      "Enter key to check:  k\n"
     ]
    },
    {
     "name": "stdout",
     "output_type": "stream",
     "text": [
      "Key does not exist.\n"
     ]
    }
   ],
   "source": [
    "#39.Write a program to check if a key exists in a dictionary. \n",
    "d = {'x': 1, 'y': 2}\n",
    "key = input(\"Enter key to check: \")\n",
    "print(\"Key exists.\" if key in d else \"Key does not exist.\")\n"
   ]
  },
  {
   "cell_type": "code",
   "execution_count": 54,
   "id": "21eb746d-545c-4360-9f18-c428e3517701",
   "metadata": {},
   "outputs": [
    {
     "name": "stdin",
     "output_type": "stream",
     "text": [
      "Enter a string:  Shyam\n"
     ]
    },
    {
     "name": "stdout",
     "output_type": "stream",
     "text": [
      "Shy*m\n"
     ]
    }
   ],
   "source": [
    "#40.Write a program to replace all the vowels in a string with '*'.\n",
    "def replace_vowels(s):\n",
    "    vowels = 'aeiouAEIOU'\n",
    "    return ''.join('*' if ch in vowels else ch for ch in s)\n",
    "text = input(\"Enter a string: \")\n",
    "print(replace_vowels(text))"
   ]
  },
  {
   "cell_type": "code",
   "execution_count": null,
   "id": "3a0882a9-7d60-4704-ad5d-ef07ab5ca7bc",
   "metadata": {},
   "outputs": [],
   "source": [
    "#41.A Python program to read the contents of a file and display it. \n",
    "with open('args.txt', 'r') as file:\n",
    "    print(file.read())"
   ]
  },
  {
   "cell_type": "code",
   "execution_count": null,
   "id": "2dfd557c-a1d4-425a-9da9-69508e93fb45",
   "metadata": {},
   "outputs": [],
   "source": [
    "#42.Count the number of words in a file\n",
    "with open('example.txt', 'r') as file:\n",
    "    words = file.read().split()\n",
    "    print(\"Word count:\", len(words))\n"
   ]
  },
  {
   "cell_type": "code",
   "execution_count": null,
   "id": "af89da31-4dbd-40a3-bc66-70c53d0ee7b5",
   "metadata": {},
   "outputs": [],
   "source": [
    "#43.Copy contents of one file to another. \n",
    "with open('source.txt', 'r') as src, open('destination.txt', 'w') as dest:\n",
    "    dest.write(src.read())\n"
   ]
  },
  {
   "cell_type": "code",
   "execution_count": null,
   "id": "b5651366-c47f-4613-b943-6dc7a17117e5",
   "metadata": {},
   "outputs": [],
   "source": [
    "#44.Print only the lines that have more than 50 characters from a text file. \n",
    "with open('example.txt', 'r') as file:\n",
    "    for line in file:\n",
    "        if len(line.strip()) > 50:\n",
    "            print(line.strip())\n"
   ]
  },
  {
   "cell_type": "code",
   "execution_count": 63,
   "id": "eb5bbe0e-830d-4c3c-ade1-c0720c023837",
   "metadata": {},
   "outputs": [],
   "source": [
    "#45.Write a program to write a list of strings into a text file (one string per line). \n",
    "lines = ['Apple', 'Banana', 'Cherry']\n",
    "with open('output.txt', 'w') as file:\n",
    "    for line in lines:\n",
    "        file.write(line + '\\n')\n"
   ]
  },
  {
   "cell_type": "code",
   "execution_count": 61,
   "id": "3e2a1721-17c2-43e7-abd8-170c482269ec",
   "metadata": {},
   "outputs": [
    {
     "name": "stdin",
     "output_type": "stream",
     "text": [
      "Enter numerator:  12\n",
      "Enter denominator:  24\n"
     ]
    },
    {
     "name": "stdout",
     "output_type": "stream",
     "text": [
      "Result: 0.5\n"
     ]
    }
   ],
   "source": [
    "#46.A program to take two numbers as input and handle division by zero. \n",
    "try:\n",
    "    a = int(input(\"Enter numerator: \"))\n",
    "    b = int(input(\"Enter denominator: \"))\n",
    "    print(\"Result:\", a / b)\n",
    "except ZeroDivisionError:\n",
    "    print(\"Error: Cannot divide by zero.\")\n"
   ]
  },
  {
   "cell_type": "code",
   "execution_count": 60,
   "id": "18c31e98-bc64-4c9f-9636-fa9011c4a8ce",
   "metadata": {},
   "outputs": [
    {
     "name": "stdin",
     "output_type": "stream",
     "text": [
      "Enter a number:  13\n"
     ]
    },
    {
     "name": "stdout",
     "output_type": "stream",
     "text": [
      "You entered: 13\n"
     ]
    }
   ],
   "source": [
    "#47.Handle invalid user input (e.g., entering a string when a number is expected). \n",
    "try:\n",
    "    number = int(input(\"Enter a number: \"))\n",
    "    print(\"You entered:\", number)\n",
    "except ValueError:\n",
    "    print(\"Invalid input! Please enter a numeric value.\")\n"
   ]
  },
  {
   "cell_type": "code",
   "execution_count": 59,
   "id": "3fee0f0f-4cf4-4d92-a126-f07d9762062b",
   "metadata": {},
   "outputs": [
    {
     "name": "stdout",
     "output_type": "stream",
     "text": [
      "File not found.\n"
     ]
    }
   ],
   "source": [
    "#48.Try to open a file that doesn’t exist and handle the FileNotFoundError. \n",
    "try:\n",
    "    with open('nonexistent.txt', 'r') as file:\n",
    "        print(file.read())\n",
    "except FileNotFoundError:\n",
    "    print(\"File not found.\")\n"
   ]
  },
  {
   "cell_type": "code",
   "execution_count": 58,
   "id": "b31b0303-5405-45aa-a526-20dbbae7da5e",
   "metadata": {},
   "outputs": [
    {
     "name": "stdout",
     "output_type": "stream",
     "text": [
      "Index out of range.\n"
     ]
    }
   ],
   "source": [
    "#49.Create a list of numbers and try accessing an invalid index. Handle the exception gracefully. \n",
    "try:\n",
    "    lst = [1, 2, 3]\n",
    "    print(lst[5])\n",
    "except IndexError:\n",
    "    print(\"Index out of range.\")\n"
   ]
  },
  {
   "cell_type": "code",
   "execution_count": 57,
   "id": "400d4029-72a0-4e08-95d4-447aac7fcca7",
   "metadata": {},
   "outputs": [
    {
     "name": "stdin",
     "output_type": "stream",
     "text": [
      "Enter a number:  12\n"
     ]
    },
    {
     "name": "stdout",
     "output_type": "stream",
     "text": [
      "You entered: 12\n",
      "This block always executes.\n"
     ]
    }
   ],
   "source": [
    "#50.Use a try-except-finally block to demonstrate the execution of the finally clause. \n",
    "try:\n",
    "    x = int(input(\"Enter a number: \"))\n",
    "    print(\"You entered:\", x)\n",
    "except ValueError:\n",
    "    print(\"That wasn't a number.\")\n",
    "finally:\n",
    "    print(\"This block always executes.\")\n"
   ]
  },
  {
   "cell_type": "code",
   "execution_count": null,
   "id": "a1cbfb2d-95c6-4eb2-8f4d-6208b8828953",
   "metadata": {},
   "outputs": [],
   "source": []
  }
 ],
 "metadata": {
  "kernelspec": {
   "display_name": "Python [conda env:base] *",
   "language": "python",
   "name": "conda-base-py"
  },
  "language_info": {
   "codemirror_mode": {
    "name": "ipython",
    "version": 3
   },
   "file_extension": ".py",
   "mimetype": "text/x-python",
   "name": "python",
   "nbconvert_exporter": "python",
   "pygments_lexer": "ipython3",
   "version": "3.12.7"
  }
 },
 "nbformat": 4,
 "nbformat_minor": 5
}
